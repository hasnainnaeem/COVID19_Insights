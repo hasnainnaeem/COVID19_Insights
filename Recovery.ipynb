{
 "cells": [
  {
   "cell_type": "code",
   "execution_count": 1,
   "metadata": {},
   "outputs": [],
   "source": [
    "import os\n",
    "\n",
    "import pandas as pd\n",
    "import numpy as np\n",
    "import matplotlib.pyplot as plt\n",
    "\n",
    "from datetime import datetime"
   ]
  },
  {
   "cell_type": "code",
   "execution_count": 2,
   "metadata": {},
   "outputs": [],
   "source": [
    "import warnings\n",
    "warnings.filterwarnings('ignore')"
   ]
  },
  {
   "cell_type": "code",
   "execution_count": 3,
   "metadata": {},
   "outputs": [
    {
     "data": {
      "text/html": [
       "<div>\n",
       "<style scoped>\n",
       "    .dataframe tbody tr th:only-of-type {\n",
       "        vertical-align: middle;\n",
       "    }\n",
       "\n",
       "    .dataframe tbody tr th {\n",
       "        vertical-align: top;\n",
       "    }\n",
       "\n",
       "    .dataframe thead th {\n",
       "        text-align: right;\n",
       "    }\n",
       "</style>\n",
       "<table border=\"1\" class=\"dataframe\">\n",
       "  <thead>\n",
       "    <tr style=\"text-align: right;\">\n",
       "      <th></th>\n",
       "      <th>date_confirmation</th>\n",
       "      <th>date_death_or_discharge</th>\n",
       "      <th>outcome</th>\n",
       "    </tr>\n",
       "  </thead>\n",
       "  <tbody>\n",
       "    <tr>\n",
       "      <th>0</th>\n",
       "      <td>22.01.2020</td>\n",
       "      <td>NaN</td>\n",
       "      <td>NaN</td>\n",
       "    </tr>\n",
       "    <tr>\n",
       "      <th>1</th>\n",
       "      <td>23.01.2020</td>\n",
       "      <td>NaN</td>\n",
       "      <td>NaN</td>\n",
       "    </tr>\n",
       "    <tr>\n",
       "      <th>2</th>\n",
       "      <td>23.01.2020</td>\n",
       "      <td>NaN</td>\n",
       "      <td>NaN</td>\n",
       "    </tr>\n",
       "    <tr>\n",
       "      <th>3</th>\n",
       "      <td>23.01.2020</td>\n",
       "      <td>NaN</td>\n",
       "      <td>NaN</td>\n",
       "    </tr>\n",
       "    <tr>\n",
       "      <th>4</th>\n",
       "      <td>23.01.2020</td>\n",
       "      <td>NaN</td>\n",
       "      <td>NaN</td>\n",
       "    </tr>\n",
       "  </tbody>\n",
       "</table>\n",
       "</div>"
      ],
      "text/plain": [
       "  date_confirmation date_death_or_discharge outcome\n",
       "0        22.01.2020                     NaN     NaN\n",
       "1        23.01.2020                     NaN     NaN\n",
       "2        23.01.2020                     NaN     NaN\n",
       "3        23.01.2020                     NaN     NaN\n",
       "4        23.01.2020                     NaN     NaN"
      ]
     },
     "execution_count": 3,
     "metadata": {},
     "output_type": "execute_result"
    }
   ],
   "source": [
    "path = 'data'\n",
    "\n",
    "data = pd.read_csv(os.path.join(path, 'COVID19_open_line_list.csv'))\n",
    "data = data[['date_confirmation', 'date_death_or_discharge', 'outcome']].copy()\n",
    "\n",
    "data.head()"
   ]
  },
  {
   "cell_type": "code",
   "execution_count": 4,
   "metadata": {},
   "outputs": [],
   "source": [
    "data['outcome'] = data['outcome'].fillna('NA')\n",
    "\n",
    "data['outcome'] = data['outcome'].replace(['Death', 'death', 'dead'], 'died')\n",
    "data['outcome'] = data['outcome'].replace(['Discharged', 'Discharged from hospital', \n",
    "                                            'discharge', 'discharged', 'released from quarantine'], 'recovered')"
   ]
  },
  {
   "cell_type": "code",
   "execution_count": 11,
   "metadata": {},
   "outputs": [],
   "source": [
    "def days_to(data, type_):\n",
    "    total_days = list()\n",
    "    for i, row in data.iterrows():\n",
    "        try:\n",
    "            start = datetime.strptime(row['date_confirmation'], '%d.%m.%Y')\n",
    "            end = datetime.strptime(row['date_death_or_discharge'], '%d.%m.%Y')\n",
    "        except:\n",
    "            continue\n",
    "\n",
    "        days = (end - start).days\n",
    "\n",
    "        if days > 0:\n",
    "            total_days.append(days)\n",
    "    \n",
    "    print('Mininum no. of days:', min(total_days))\n",
    "    print('Average no. of days:', sum(total_days)//len(total_days))\n",
    "    print('Maximum no. of days:', max(total_days))\n",
    "    print('Cases observed:', len(total_days))\n",
    "\n",
    "    plt.figure(figsize=(10,5))\n",
    "    plt.boxplot(total_days, vert=False)\n",
    "    if type_ == 'recovery':\n",
    "        plt.title('Number of days to recover after confirmation')\n",
    "    elif type_ == 'death':\n",
    "        plt.title('Number of days before death after confirmation')\n",
    "    plt.show()"
   ]
  },
  {
   "cell_type": "code",
   "execution_count": 12,
   "metadata": {},
   "outputs": [
    {
     "name": "stdout",
     "output_type": "stream",
     "text": [
      "Mininum no. of days: 1\n",
      "Average no. of days: 13\n",
      "Maximum no. of days: 40\n",
      "Cases observed: 126\n"
     ]
    },
    {
     "data": {
      "image/png": "[encoded data removed]",
      "text/plain": [
       "<matplotlib.figure.Figure at 0x262e9528208>"
      ]
     },
     "metadata": {},
     "output_type": "display_data"
    }
   ],
   "source": [
    "data_recovered = data[data['outcome'] == 'recovered'].dropna()\n",
    "days_to(data_recovered, 'recovery')"
   ]
  },
  {
   "cell_type": "code",
   "execution_count": 13,
   "metadata": {
    "scrolled": false
   },
   "outputs": [
    {
     "name": "stdout",
     "output_type": "stream",
     "text": [
      "Mininum no. of days: 1\n",
      "Average no. of days: 4\n",
      "Maximum no. of days: 18\n",
      "Cases observed: 15\n"
     ]
    },
    {
     "data": {
      "image/png": "[encoded data removed]",
      "text/plain": [
       "<matplotlib.figure.Figure at 0x262e9ad1be0>"
      ]
     },
     "metadata": {},
     "output_type": "display_data"
    }
   ],
   "source": [
    "data_death = data[data['outcome'] == 'died'].dropna()\n",
    "days_to(data_death, 'death')"
   ]
  },
  {
   "cell_type": "code",
   "execution_count": null,
   "metadata": {},
   "outputs": [],
   "source": []
  }
 ],
 "metadata": {
  "kernelspec": {
   "display_name": "Python 3",
   "language": "python",
   "name": "python3"
  },
  "language_info": {
   "codemirror_mode": {
    "name": "ipython",
    "version": 3
   },
   "file_extension": ".py",
   "mimetype": "text/x-python",
   "name": "python",
   "nbconvert_exporter": "python",
   "pygments_lexer": "ipython3",
   "version": "3.6.3"
  }
 },
 "nbformat": 4,
 "nbformat_minor": 2
}
